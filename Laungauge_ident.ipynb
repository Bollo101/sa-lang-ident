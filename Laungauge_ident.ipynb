{
 "cells": [
  {
   "cell_type": "code",
   "execution_count": 1,
   "id": "dcb25adf-3bc2-4c6e-9ad4-1e9ec6920736",
   "metadata": {},
   "outputs": [],
   "source": [
    "import pandas as pd\n",
    "import numpy as np\n",
    "import matplotlib.pyplot as plt\n",
    "import seaborn as sns\n",
    "from sklearn.model_selection import train_test_split\n",
    "from sklearn.feature_extraction.text import CountVectorizer , TfidfVectorizer\n",
    "from sklearn.linear_model import LogisticRegression\n",
    "from sklearn.linear_model import SGDClassifier\n",
    "from sklearn.svm import LinearSVC\n",
    "from sklearn.naive_bayes import MultinomialNB\n",
    "from sklearn.svm import SVC\n",
    "import xgboost as xgb\n",
    "from sklearn.ensemble import RandomForestClassifier\n",
    "from collections import defaultdict\n",
    "from sklearn.metrics import accuracy_score, log_loss, precision_score, recall_score, precision_recall_curve, f1_score, classification_report\n",
    "from langdetect import detect_langs\n",
    "import spacy\n",
    "from spacy.language import Language\n",
    "from spacy_langdetect import LanguageDetector\n",
    "from sklearn.model_selection import GridSearchCV\n",
    "import re\n",
    "import string\n",
    "from sklearn.naive_bayes import GaussianNB ,CategoricalNB \n",
    "import emoji"
   ]
  },
  {
   "cell_type": "code",
   "execution_count": 2,
   "id": "45703e8c-6b40-4e53-a9a9-5938a8a7998e",
   "metadata": {},
   "outputs": [],
   "source": [
    "df=pd.read_csv('train_set.csv')\n",
    "df_test =pd.read_csv('test_set.csv')"
   ]
  },
  {
   "cell_type": "code",
   "execution_count": 3,
   "id": "7031783c-9370-4f60-9f42-632096f8ad7c",
   "metadata": {},
   "outputs": [
    {
     "data": {
      "text/html": [
       "<div>\n",
       "<style scoped>\n",
       "    .dataframe tbody tr th:only-of-type {\n",
       "        vertical-align: middle;\n",
       "    }\n",
       "\n",
       "    .dataframe tbody tr th {\n",
       "        vertical-align: top;\n",
       "    }\n",
       "\n",
       "    .dataframe thead th {\n",
       "        text-align: right;\n",
       "    }\n",
       "</style>\n",
       "<table border=\"1\" class=\"dataframe\">\n",
       "  <thead>\n",
       "    <tr style=\"text-align: right;\">\n",
       "      <th></th>\n",
       "      <th>lang_id</th>\n",
       "      <th>text</th>\n",
       "    </tr>\n",
       "  </thead>\n",
       "  <tbody>\n",
       "    <tr>\n",
       "      <th>0</th>\n",
       "      <td>xho</td>\n",
       "      <td>umgaqo-siseko wenza amalungiselelo kumaziko ax...</td>\n",
       "    </tr>\n",
       "    <tr>\n",
       "      <th>1</th>\n",
       "      <td>xho</td>\n",
       "      <td>i-dha iya kuba nobulumko bokubeka umsebenzi na...</td>\n",
       "    </tr>\n",
       "    <tr>\n",
       "      <th>2</th>\n",
       "      <td>eng</td>\n",
       "      <td>the province of kwazulu-natal department of tr...</td>\n",
       "    </tr>\n",
       "    <tr>\n",
       "      <th>3</th>\n",
       "      <td>nso</td>\n",
       "      <td>o netefatša gore o ba file dilo ka moka tše le...</td>\n",
       "    </tr>\n",
       "    <tr>\n",
       "      <th>4</th>\n",
       "      <td>ven</td>\n",
       "      <td>khomishini ya ndinganyiso ya mbeu yo ewa maana...</td>\n",
       "    </tr>\n",
       "  </tbody>\n",
       "</table>\n",
       "</div>"
      ],
      "text/plain": [
       "  lang_id                                               text\n",
       "0     xho  umgaqo-siseko wenza amalungiselelo kumaziko ax...\n",
       "1     xho  i-dha iya kuba nobulumko bokubeka umsebenzi na...\n",
       "2     eng  the province of kwazulu-natal department of tr...\n",
       "3     nso  o netefatša gore o ba file dilo ka moka tše le...\n",
       "4     ven  khomishini ya ndinganyiso ya mbeu yo ewa maana..."
      ]
     },
     "metadata": {},
     "output_type": "display_data"
    },
    {
     "data": {
      "text/html": [
       "<div>\n",
       "<style scoped>\n",
       "    .dataframe tbody tr th:only-of-type {\n",
       "        vertical-align: middle;\n",
       "    }\n",
       "\n",
       "    .dataframe tbody tr th {\n",
       "        vertical-align: top;\n",
       "    }\n",
       "\n",
       "    .dataframe thead th {\n",
       "        text-align: right;\n",
       "    }\n",
       "</style>\n",
       "<table border=\"1\" class=\"dataframe\">\n",
       "  <thead>\n",
       "    <tr style=\"text-align: right;\">\n",
       "      <th></th>\n",
       "      <th>index</th>\n",
       "      <th>text</th>\n",
       "    </tr>\n",
       "  </thead>\n",
       "  <tbody>\n",
       "    <tr>\n",
       "      <th>0</th>\n",
       "      <td>1</td>\n",
       "      <td>Mmasepala, fa maemo a a kgethegileng a letlele...</td>\n",
       "    </tr>\n",
       "    <tr>\n",
       "      <th>1</th>\n",
       "      <td>2</td>\n",
       "      <td>Uzakwaziswa ngokufaneleko nakungafuneka eminye...</td>\n",
       "    </tr>\n",
       "    <tr>\n",
       "      <th>2</th>\n",
       "      <td>3</td>\n",
       "      <td>Tshivhumbeo tshi fana na ngano dza vhathu.</td>\n",
       "    </tr>\n",
       "    <tr>\n",
       "      <th>3</th>\n",
       "      <td>4</td>\n",
       "      <td>Kube inja nelikati betingevakala kutsi titsini...</td>\n",
       "    </tr>\n",
       "    <tr>\n",
       "      <th>4</th>\n",
       "      <td>5</td>\n",
       "      <td>Winste op buitelandse valuta.</td>\n",
       "    </tr>\n",
       "  </tbody>\n",
       "</table>\n",
       "</div>"
      ],
      "text/plain": [
       "   index                                               text\n",
       "0      1  Mmasepala, fa maemo a a kgethegileng a letlele...\n",
       "1      2  Uzakwaziswa ngokufaneleko nakungafuneka eminye...\n",
       "2      3         Tshivhumbeo tshi fana na ngano dza vhathu.\n",
       "3      4  Kube inja nelikati betingevakala kutsi titsini...\n",
       "4      5                      Winste op buitelandse valuta."
      ]
     },
     "metadata": {},
     "output_type": "display_data"
    }
   ],
   "source": [
    "display(df.head())\n",
    "display(df_test.head())"
   ]
  },
  {
   "cell_type": "code",
   "execution_count": 4,
   "id": "a7973837-d494-45d8-8171-d80aba54c4a6",
   "metadata": {},
   "outputs": [],
   "source": [
    "replace_numbers=re.compile(r'\\d+',re.IGNORECASE)\n",
    "\n",
    "def clean_tex2t(input_text):\n",
    "    text = input_text.lower()\n",
    "    text = replace_numbers.sub('', text)\n",
    "\n",
    "    text = text.replace('ã…â¡', 'š')\n",
    "    text = text.replace('ï¿½', '')\n",
    "    text = text.replace('ª', '')\n",
    "    text = text.rstrip('\"')\n",
    "    text = text.lstrip(' \"')\n",
    "\n",
    "    text = text.replace('\\n', '') \n",
    "    text = re.sub(r\"\\bhttps://t.co/\\w+\", 'url', text) \n",
    "    text = re.sub('\\w*\\d\\w*', ' ', text) \n",
    "    text = re.sub(r'\\s\\s+', ' ', text)\n",
    "    return text"
   ]
  },
  {
   "cell_type": "code",
   "execution_count": 5,
   "id": "b60e2f0f-a930-4301-8f6c-3fdfe4f43b06",
   "metadata": {},
   "outputs": [],
   "source": [
    "def clean_text(text):\n",
    "    text=re.sub('<.*?>', ' ', text)\n",
    "    text = re.sub(r'\\d+', ' ', text)\n",
    "    text = re.sub(\"\\n\",\" \",text)\n",
    "    text = text.lower()\n",
    "    text=' '.join(text.split())\n",
    "    \n",
    "    return text"
   ]
  },
  {
   "cell_type": "code",
   "execution_count": 6,
   "id": "c41cecc7-d2a0-4782-914b-74c93af4fa7d",
   "metadata": {},
   "outputs": [],
   "source": [
    "df['text'] = df['text'].apply(clean_text)\n",
    "df_test['text'] = df_test['text'].apply(clean_text)"
   ]
  },
  {
   "cell_type": "code",
   "execution_count": 7,
   "id": "03388590-f126-4da9-89fb-622a1a099c12",
   "metadata": {},
   "outputs": [],
   "source": [
    "X = df.text\n",
    "y=df.lang_id"
   ]
  },
  {
   "cell_type": "code",
   "execution_count": 8,
   "id": "0ed11656-a3d7-48f5-8075-77f80835c104",
   "metadata": {},
   "outputs": [],
   "source": [
    "X_train , X_test, y_train, y_test = train_test_split(X,y,test_size=0.2)"
   ]
  },
  {
   "cell_type": "code",
   "execution_count": 9,
   "id": "d17b1a6a-f5f7-4815-984a-54e4665f8d2f",
   "metadata": {},
   "outputs": [],
   "source": [
    "maxdf=0.9\n",
    "mindf=1"
   ]
  },
  {
   "cell_type": "code",
   "execution_count": 10,
   "id": "b061697f-75ae-4c43-bc7d-3a6882d0c098",
   "metadata": {},
   "outputs": [],
   "source": [
    "vectorizer_dict = {'TF_1': TfidfVectorizer(max_df = maxdf, min_df = mindf,analyzer='char'),\n",
    "                   'TF_2': TfidfVectorizer(ngram_range=(1,3), max_df = maxdf, min_df = mindf,analyzer='char'),\n",
    "                   'TF_3': TfidfVectorizer(ngram_range=(2,3), max_df = maxdf, min_df = mindf,analyzer='char'),\n",
    "                   'TF_4': TfidfVectorizer(ngram_range=(1,5),max_df = maxdf, min_df = mindf,analyzer='char'),\n",
    "                   'TF_5' : TfidfVectorizer(ngram_range=(1, 6),analyzer='char',max_df=maxdf, min_df=mindf),\n",
    "                  'TF_6' : TfidfVectorizer(ngram_range=(3, 6),analyzer='char',max_df=maxdf, min_df=mindf)}"
   ]
  },
  {
   "cell_type": "code",
   "execution_count": 11,
   "id": "a803ceea-0d0d-4ddd-9837-022d3d8bffbb",
   "metadata": {},
   "outputs": [],
   "source": [
    "model_dict = {  'Naive Bayes NB': MultinomialNB(), \n",
    "              'LinearSVC2' : LinearSVC(),}          \n"
   ]
  },
  {
   "cell_type": "code",
   "execution_count": 12,
   "id": "b5d79b49-6c0f-485f-80f1-098e5d132cf2",
   "metadata": {},
   "outputs": [],
   "source": [
    "class_results_dict=defaultdict(list)"
   ]
  },
  {
   "cell_type": "code",
   "execution_count": 13,
   "id": "2db29466-0c2a-46f0-9637-79b6bef39f5c",
   "metadata": {},
   "outputs": [
    {
     "name": "stdout",
     "output_type": "stream",
     "text": [
      "TF_1\n",
      "TF_2\n",
      "TF_3\n",
      "TF_4\n",
      "TF_5\n",
      "TF_6\n",
      "Completed\n"
     ]
    }
   ],
   "source": [
    "for vec_name, vectorizer in vectorizer_dict.items():\n",
    "    \n",
    "    X_train_cv = vectorizer.fit_transform(X_train)\n",
    "    X_test_cv  = vectorizer.transform(X_test)\n",
    "    print(vec_name) # keep track of progress\n",
    "    \n",
    "    for mod_name, model in model_dict.items():\n",
    "        model.fit(X_train_cv, y_train);\n",
    "        y_pred_cv = model.predict(X_test_cv)\n",
    "        \n",
    "        precision_cv = precision_score(y_test, y_pred_cv,average='macro')\n",
    "        recall_cv = recall_score(y_test, y_pred_cv,average='macro')\n",
    "        f1_cv = f1_score(y_test, y_pred_cv,average='macro')\n",
    "        \n",
    "        \n",
    "        class_results_dict['Vectorizer Type'].append(vec_name)\n",
    "        class_results_dict['Model Name'].append(mod_name)\n",
    "        class_results_dict[('Precision')].append(precision_cv)\n",
    "        class_results_dict[('Recall')].append(recall_cv)\n",
    "        class_results_dict[('F1-score')].append(f1_cv)\n",
    "\n",
    "print('Completed')\n",
    "        \n",
    "\n",
    "class_results_df = pd.DataFrame(class_results_dict)"
   ]
  },
  {
   "cell_type": "code",
   "execution_count": 14,
   "id": "f98b8d5c-8341-4e38-8514-83d0a29f46d2",
   "metadata": {},
   "outputs": [
    {
     "data": {
      "text/html": [
       "<div>\n",
       "<style scoped>\n",
       "    .dataframe tbody tr th:only-of-type {\n",
       "        vertical-align: middle;\n",
       "    }\n",
       "\n",
       "    .dataframe tbody tr th {\n",
       "        vertical-align: top;\n",
       "    }\n",
       "\n",
       "    .dataframe thead th {\n",
       "        text-align: right;\n",
       "    }\n",
       "</style>\n",
       "<table border=\"1\" class=\"dataframe\">\n",
       "  <thead>\n",
       "    <tr style=\"text-align: right;\">\n",
       "      <th></th>\n",
       "      <th>Vectorizer Type</th>\n",
       "      <th>Model Name</th>\n",
       "      <th>Precision</th>\n",
       "      <th>Recall</th>\n",
       "      <th>F1-score</th>\n",
       "    </tr>\n",
       "  </thead>\n",
       "  <tbody>\n",
       "    <tr>\n",
       "      <th>10</th>\n",
       "      <td>TF_6</td>\n",
       "      <td>Naive Bayes NB</td>\n",
       "      <td>0.999855</td>\n",
       "      <td>0.999840</td>\n",
       "      <td>0.999847</td>\n",
       "    </tr>\n",
       "    <tr>\n",
       "      <th>6</th>\n",
       "      <td>TF_4</td>\n",
       "      <td>Naive Bayes NB</td>\n",
       "      <td>0.999851</td>\n",
       "      <td>0.999840</td>\n",
       "      <td>0.999845</td>\n",
       "    </tr>\n",
       "    <tr>\n",
       "      <th>7</th>\n",
       "      <td>TF_4</td>\n",
       "      <td>LinearSVC2</td>\n",
       "      <td>0.999851</td>\n",
       "      <td>0.999840</td>\n",
       "      <td>0.999845</td>\n",
       "    </tr>\n",
       "    <tr>\n",
       "      <th>8</th>\n",
       "      <td>TF_5</td>\n",
       "      <td>Naive Bayes NB</td>\n",
       "      <td>0.999851</td>\n",
       "      <td>0.999840</td>\n",
       "      <td>0.999845</td>\n",
       "    </tr>\n",
       "    <tr>\n",
       "      <th>9</th>\n",
       "      <td>TF_5</td>\n",
       "      <td>LinearSVC2</td>\n",
       "      <td>0.999851</td>\n",
       "      <td>0.999840</td>\n",
       "      <td>0.999845</td>\n",
       "    </tr>\n",
       "    <tr>\n",
       "      <th>11</th>\n",
       "      <td>TF_6</td>\n",
       "      <td>LinearSVC2</td>\n",
       "      <td>0.999703</td>\n",
       "      <td>0.999686</td>\n",
       "      <td>0.999694</td>\n",
       "    </tr>\n",
       "    <tr>\n",
       "      <th>3</th>\n",
       "      <td>TF_2</td>\n",
       "      <td>LinearSVC2</td>\n",
       "      <td>0.999086</td>\n",
       "      <td>0.999073</td>\n",
       "      <td>0.999078</td>\n",
       "    </tr>\n",
       "    <tr>\n",
       "      <th>5</th>\n",
       "      <td>TF_3</td>\n",
       "      <td>LinearSVC2</td>\n",
       "      <td>0.999086</td>\n",
       "      <td>0.999073</td>\n",
       "      <td>0.999078</td>\n",
       "    </tr>\n",
       "    <tr>\n",
       "      <th>2</th>\n",
       "      <td>TF_2</td>\n",
       "      <td>Naive Bayes NB</td>\n",
       "      <td>0.998167</td>\n",
       "      <td>0.998142</td>\n",
       "      <td>0.998154</td>\n",
       "    </tr>\n",
       "    <tr>\n",
       "      <th>4</th>\n",
       "      <td>TF_3</td>\n",
       "      <td>Naive Bayes NB</td>\n",
       "      <td>0.998167</td>\n",
       "      <td>0.998142</td>\n",
       "      <td>0.998154</td>\n",
       "    </tr>\n",
       "    <tr>\n",
       "      <th>1</th>\n",
       "      <td>TF_1</td>\n",
       "      <td>LinearSVC2</td>\n",
       "      <td>0.806191</td>\n",
       "      <td>0.809341</td>\n",
       "      <td>0.806735</td>\n",
       "    </tr>\n",
       "    <tr>\n",
       "      <th>0</th>\n",
       "      <td>TF_1</td>\n",
       "      <td>Naive Bayes NB</td>\n",
       "      <td>0.799622</td>\n",
       "      <td>0.797624</td>\n",
       "      <td>0.795526</td>\n",
       "    </tr>\n",
       "  </tbody>\n",
       "</table>\n",
       "</div>"
      ],
      "text/plain": [
       "   Vectorizer Type      Model Name  Precision    Recall  F1-score\n",
       "10            TF_6  Naive Bayes NB   0.999855  0.999840  0.999847\n",
       "6             TF_4  Naive Bayes NB   0.999851  0.999840  0.999845\n",
       "7             TF_4      LinearSVC2   0.999851  0.999840  0.999845\n",
       "8             TF_5  Naive Bayes NB   0.999851  0.999840  0.999845\n",
       "9             TF_5      LinearSVC2   0.999851  0.999840  0.999845\n",
       "11            TF_6      LinearSVC2   0.999703  0.999686  0.999694\n",
       "3             TF_2      LinearSVC2   0.999086  0.999073  0.999078\n",
       "5             TF_3      LinearSVC2   0.999086  0.999073  0.999078\n",
       "2             TF_2  Naive Bayes NB   0.998167  0.998142  0.998154\n",
       "4             TF_3  Naive Bayes NB   0.998167  0.998142  0.998154\n",
       "1             TF_1      LinearSVC2   0.806191  0.809341  0.806735\n",
       "0             TF_1  Naive Bayes NB   0.799622  0.797624  0.795526"
      ]
     },
     "execution_count": 14,
     "metadata": {},
     "output_type": "execute_result"
    }
   ],
   "source": [
    "class_results_df.sort_values(by='F1-score', ascending=False)"
   ]
  },
  {
   "cell_type": "code",
   "execution_count": 29,
   "id": "6fa5fc28-dc69-43a7-a20f-2548440a6401",
   "metadata": {},
   "outputs": [],
   "source": [
    "cv_final = vectorizer_dict['TF_6']"
   ]
  },
  {
   "cell_type": "code",
   "execution_count": 30,
   "id": "d6718066-876d-4f17-8690-1def81adc1b3",
   "metadata": {},
   "outputs": [],
   "source": [
    "X = df.text\n",
    "y= df.lang_id\n",
    "X_test_final = df_test.text"
   ]
  },
  {
   "cell_type": "code",
   "execution_count": 31,
   "id": "cd28a065-dba3-4bf0-aefb-1d09ec7a4905",
   "metadata": {},
   "outputs": [],
   "source": [
    "cv_train_final = cv_final.fit_transform(X)\n",
    "cv_test_final = cv_final.transform(X_test_final)"
   ]
  },
  {
   "cell_type": "code",
   "execution_count": 32,
   "id": "f3b4fd94-ee71-4afe-8ecf-28131d93f140",
   "metadata": {},
   "outputs": [],
   "source": [
    "model = MultinomialNB()"
   ]
  },
  {
   "cell_type": "code",
   "execution_count": 33,
   "id": "4103f2ac-1739-4e73-b664-fa458f339a82",
   "metadata": {},
   "outputs": [
    {
     "data": {
      "text/plain": [
       "MultinomialNB()"
      ]
     },
     "execution_count": 33,
     "metadata": {},
     "output_type": "execute_result"
    }
   ],
   "source": [
    "model.fit(cv_train_final,y)"
   ]
  },
  {
   "cell_type": "code",
   "execution_count": 34,
   "id": "0cfd81df-0b9f-41c0-9712-895ba8925107",
   "metadata": {},
   "outputs": [],
   "source": [
    "pred_final = model.predict(cv_test_final)"
   ]
  },
  {
   "cell_type": "code",
   "execution_count": 35,
   "id": "8511b5bb-0fd4-43ac-96f3-5021de3e83df",
   "metadata": {},
   "outputs": [],
   "source": [
    "submission = pd.DataFrame({'index': df_test.index +1, 'lang_id': pred_final})\n",
    "submission.to_csv('rob_lang_ident_NB_submission.csv', index=False)"
   ]
  },
  {
   "cell_type": "code",
   "execution_count": null,
   "id": "2425ee17-60cd-478b-afa5-03c25fb538b5",
   "metadata": {},
   "outputs": [],
   "source": []
  }
 ],
 "metadata": {
  "kernelspec": {
   "display_name": "Python 3",
   "language": "python",
   "name": "python3"
  },
  "language_info": {
   "codemirror_mode": {
    "name": "ipython",
    "version": 3
   },
   "file_extension": ".py",
   "mimetype": "text/x-python",
   "name": "python",
   "nbconvert_exporter": "python",
   "pygments_lexer": "ipython3",
   "version": "3.8.8"
  }
 },
 "nbformat": 4,
 "nbformat_minor": 5
}
